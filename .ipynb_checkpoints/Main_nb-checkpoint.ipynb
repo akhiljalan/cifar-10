{
 "cells": [
  {
   "cell_type": "markdown",
   "metadata": {
    "deletable": true,
    "editable": true
   },
   "source": [
    "# Experimenting with CIFAR-10\n",
    "\n",
    "From the [website](https://www.cs.toronto.edu/~kriz/cifar.html): \"The CIFAR-10 dataset consists of 60000 32x32 colour images in 10 classes, with 6000 images per class. There are 50000 training images and 10000 test images.\"\n",
    "\n",
    "Let's try some stuff out. \n",
    "\n",
    "1. Dimensionality reduction (PCA)\n",
    "\n",
    "2. K-means clustering (perhaps in different dimensions)\n",
    "\n",
    "- Simple feedforward NN (Dropout, L2 Regularization)\n",
    "\n",
    "4. Siple least squares regression with one-hot output vectors"
   ]
  },
  {
   "cell_type": "markdown",
   "metadata": {
    "deletable": true,
    "editable": true
   },
   "source": [
    "## Reading the Data\n",
    "\n",
    "This was blissfully easy. "
   ]
  },
  {
   "cell_type": "code",
   "execution_count": 5,
   "metadata": {
    "collapsed": false,
    "deletable": true,
    "editable": true
   },
   "outputs": [],
   "source": [
    "#!/usr/local/bin/python\n",
    "\n",
    "#Script source: \n",
    "#https://www.cs.toronto.edu/~kriz/cifar.html\n",
    "\n",
    "import pickle\n",
    "import numpy as np \n",
    "\n",
    "def unpickle(file):\n",
    "    with open(file, 'rb') as fo:\n",
    "        dict = pickle.load(fo, encoding='bytes')\n",
    "    return dict"
   ]
  },
  {
   "cell_type": "code",
   "execution_count": 2,
   "metadata": {
    "collapsed": false,
    "deletable": true,
    "editable": true
   },
   "outputs": [
    {
     "data": {
      "text/plain": [
       "{b'label_names': [b'airplane',\n",
       "  b'automobile',\n",
       "  b'bird',\n",
       "  b'cat',\n",
       "  b'deer',\n",
       "  b'dog',\n",
       "  b'frog',\n",
       "  b'horse',\n",
       "  b'ship',\n",
       "  b'truck'],\n",
       " b'num_cases_per_batch': 10000,\n",
       " b'num_vis': 3072}"
      ]
     },
     "execution_count": 2,
     "metadata": {},
     "output_type": "execute_result"
    }
   ],
   "source": [
    "batch_1 = unpickle('cifar-10-batches-py/data_batch_1')\n",
    "batch_2 = unpickle('cifar-10-batches-py/data_batch_2')\n",
    "batch_3 = unpickle('cifar-10-batches-py/data_batch_3')\n",
    "batch_4 = unpickle('cifar-10-batches-py/data_batch_4')\n",
    "batch_5 = unpickle('cifar-10-batches-py/data_batch_5')\n",
    "test_batch = unpickle('cifar-10-batches-py/test_batch')\n",
    "\n",
    "meta_data = unpickle('cifar-10-batches-py/batches.meta')\n",
    "meta_data"
   ]
  },
  {
   "cell_type": "code",
   "execution_count": 3,
   "metadata": {
    "collapsed": false,
    "deletable": true,
    "editable": true
   },
   "outputs": [],
   "source": [
    "#b'data'\n",
    "#b'labels'\n",
    "train_batches = [batch_1, batch_2, batch_3, batch_4, batch_5]"
   ]
  },
  {
   "cell_type": "code",
   "execution_count": 9,
   "metadata": {
    "collapsed": false,
    "deletable": true,
    "editable": true
   },
   "outputs": [
    {
     "data": {
      "text/plain": [
       "array([[ 59,  43,  50, ..., 140,  84,  72],\n",
       "       [154, 126, 105, ..., 139, 142, 144],\n",
       "       [255, 253, 253, ...,  83,  83,  84],\n",
       "       ..., \n",
       "       [127, 139, 155, ..., 197, 192, 191],\n",
       "       [190, 200, 208, ..., 163, 182, 192],\n",
       "       [177, 174, 182, ..., 119, 127, 136]], dtype=uint8)"
      ]
     },
     "execution_count": 9,
     "metadata": {},
     "output_type": "execute_result"
    }
   ],
   "source": [
    "'''Some useful functions.'''\n",
    "\n",
    "label_names = meta_data[b'label_names']\n",
    "\n",
    "'''Returns the accuracy rate of a prediction against the true labels.\n",
    "Assumes both prediction and true_labels contain integers only, although'''\n",
    "def accuracy(prediction, true_labels): \n",
    "    assert len(prediction) == len(true_labels), 'Mismatched prediction and label set'\n",
    "    prediction = np.int_(np.rint(np.array(prediction))) #round to nearest integer and cast to integer type\n",
    "\n",
    "    num_accurate = 0\n",
    "    for i in range(len(prediction)): \n",
    "        if(prediction[i] == true_labels[i]): \n",
    "            num_accurate += 1 \n",
    "    return (num_accurate/len(prediction))\n",
    "\n",
    "'''Takes a label value (an integer between 1 and 10) and returns the corresponding\n",
    "string which the label corresponds to. Example: 3 --> bird '''\n",
    "def number_to_name(num): \n",
    "    assert type(num) == int, '{} is not an integer'.format(num)\n",
    "    assert num in [x for x in range(1, 11)], '{} is not between 1 and 10'.format(num)\n",
    "    return label_names[num - 1].decode('utf-8')\n",
    "\n",
    "def join_batches(*batches): \n",
    "    features = np.array([])\n",
    "    labels = np.array([])\n",
    "    for batch in batches: \n",
    "        features = np.vstack((features, batch[b'data']))\n",
    "        lables = np.vstack((features, batch[b'labels']))\n",
    "    return features, labels\n",
    "np.vstack((batch_1[b'data'], batch_2[b'data']))"
   ]
  },
  {
   "cell_type": "markdown",
   "metadata": {
    "deletable": true,
    "editable": true
   },
   "source": [
    "# Least Squares\n",
    "\n",
    "The most naive approach I know of is to model the problem as a least-squares optimization problem. Let $X$ be the feature matrix, where each row has 3072 entries corresponding to pixel values. Let $y$ be the label-vector, where each entry is the label for the corresponding row entry in $X$. Then the goal is to find **weight vector** $w$ such that $$Xw \\approx y$$\n",
    "\n",
    "The analytic solution to least squares is \n",
    "\n",
    "$$w = (X^T X)^{-1} X^{T}y$$\n",
    "\n",
    "## Implementing on One Batch\n",
    "\n",
    "To start, I'll implement the solution on one batch of data and see what happens."
   ]
  },
  {
   "cell_type": "code",
   "execution_count": 54,
   "metadata": {
    "collapsed": false,
    "deletable": true,
    "editable": true
   },
   "outputs": [],
   "source": [
    "import numpy as np\n",
    "import matplotlib.pyplot as plt \n",
    "%matplotlib inline"
   ]
  },
  {
   "cell_type": "code",
   "execution_count": 35,
   "metadata": {
    "collapsed": false,
    "deletable": true,
    "editable": true
   },
   "outputs": [],
   "source": [
    "feature_matrix = batch_1[b'data']\n",
    "label_vector = batch_1[b'labels']"
   ]
  },
  {
   "cell_type": "code",
   "execution_count": 36,
   "metadata": {
    "collapsed": true,
    "deletable": true,
    "editable": true
   },
   "outputs": [],
   "source": [
    "#takes about 10 seconds to run\n",
    "\n",
    "weight = np.linalg.lstsq(feature_matrix, label_vector)"
   ]
  },
  {
   "cell_type": "code",
   "execution_count": 43,
   "metadata": {
    "collapsed": false,
    "deletable": true,
    "editable": true
   },
   "outputs": [],
   "source": [
    "weight_vector = weight[0]\n",
    "residuals = weight[1]"
   ]
  },
  {
   "cell_type": "code",
   "execution_count": 119,
   "metadata": {
    "collapsed": false,
    "deletable": true,
    "editable": true
   },
   "outputs": [],
   "source": [
    "prediction = np.rint(feature_matrix @ weight_vector)"
   ]
  },
  {
   "cell_type": "code",
   "execution_count": 120,
   "metadata": {
    "collapsed": false,
    "deletable": true,
    "editable": true
   },
   "outputs": [
    {
     "data": {
      "text/plain": [
       "0.1516"
      ]
     },
     "execution_count": 120,
     "metadata": {},
     "output_type": "execute_result"
    }
   ],
   "source": [
    "accuracy(prediction, label_vector)"
   ]
  },
  {
   "cell_type": "markdown",
   "metadata": {
    "deletable": true,
    "editable": true
   },
   "source": [
    "Oof. We get an accuracy of 15%, and that's on the training set! I'll bet it's much worse on a fresh batch.\n",
    "\n",
    "Let's use the same weight vector as before, but a new batch of image features and labels as a validation dataset."
   ]
  },
  {
   "cell_type": "code",
   "execution_count": 121,
   "metadata": {
    "collapsed": false,
    "deletable": true,
    "editable": true
   },
   "outputs": [
    {
     "data": {
      "text/plain": [
       "0.1068"
      ]
     },
     "execution_count": 121,
     "metadata": {},
     "output_type": "execute_result"
    }
   ],
   "source": [
    "feature_matrix_2 = batch_2[b'data']\n",
    "labels_2 = batch_2[b'labels']\n",
    "\n",
    "prediction_2 = np.rint(feature_matrix_2 @ weight_vector)\n",
    "\n",
    "accuracy(prediction_2, labels_2)"
   ]
  },
  {
   "cell_type": "markdown",
   "metadata": {
    "deletable": true,
    "editable": true
   },
   "source": [
    "As expected, the accuracy is even lower - a poor showing at 10.6%.\n",
    "\n",
    "## Training on all 5 Batches\n",
    "\n",
    "CIFAR-10 actually contains 5 batches of training data with "
   ]
  },
  {
   "cell_type": "code",
   "execution_count": 122,
   "metadata": {
    "collapsed": false,
    "deletable": true,
    "editable": true
   },
   "outputs": [
    {
     "name": "stdout",
     "output_type": "stream",
     "text": [
      "hi\n"
     ]
    }
   ],
   "source": [
    "print('hi')"
   ]
  },
  {
   "cell_type": "code",
   "execution_count": 123,
   "metadata": {
    "collapsed": false,
    "deletable": true,
    "editable": true
   },
   "outputs": [],
   "source": [
    "test = np.int_(np.rint(np.array([1, 2, 3])))"
   ]
  },
  {
   "cell_type": "code",
   "execution_count": 108,
   "metadata": {
    "collapsed": false,
    "deletable": true,
    "editable": true
   },
   "outputs": [
    {
     "data": {
      "text/plain": [
       "1"
      ]
     },
     "execution_count": 108,
     "metadata": {},
     "output_type": "execute_result"
    }
   ],
   "source": [
    "test[0]"
   ]
  },
  {
   "cell_type": "code",
   "execution_count": 126,
   "metadata": {
    "collapsed": false,
    "deletable": true,
    "editable": true
   },
   "outputs": [],
   "source": [
    "def do_stuff(*args):\n",
    "    for arg in args: \n",
    "        print(arg)"
   ]
  },
  {
   "cell_type": "code",
   "execution_count": 127,
   "metadata": {
    "collapsed": false,
    "deletable": true,
    "editable": true
   },
   "outputs": [
    {
     "name": "stdout",
     "output_type": "stream",
     "text": [
      "1\n",
      "2\n",
      "3\n",
      "4\n"
     ]
    }
   ],
   "source": [
    "do_stuff(1, 2, 3, 4)"
   ]
  },
  {
   "cell_type": "code",
   "execution_count": 130,
   "metadata": {
    "collapsed": false,
    "deletable": true,
    "editable": true
   },
   "outputs": [
    {
     "data": {
      "text/plain": [
       "array([[-0.80700818, -1.5456516 , -0.71027861,  1.35079221, -0.11563599],\n",
       "       [-1.21846609, -0.20569536,  0.39768117,  0.34709642,  0.25687026],\n",
       "       [ 0.31753043,  1.5201755 ,  0.1909019 , -0.13671277,  0.83897556]])"
      ]
     },
     "execution_count": 130,
     "metadata": {},
     "output_type": "execute_result"
    }
   ],
   "source": [
    "a = np.random.randn(5)\n",
    "b = np.random.randn(5)\n",
    "c = np.random.randn(5)\n",
    "np.vstack((a, b, c))"
   ]
  },
  {
   "cell_type": "code",
   "execution_count": null,
   "metadata": {
    "collapsed": true,
    "deletable": true,
    "editable": true
   },
   "outputs": [],
   "source": []
  }
 ],
 "metadata": {
  "kernelspec": {
   "display_name": "Python 3",
   "language": "python",
   "name": "python3"
  },
  "language_info": {
   "codemirror_mode": {
    "name": "ipython",
    "version": 3
   },
   "file_extension": ".py",
   "mimetype": "text/x-python",
   "name": "python",
   "nbconvert_exporter": "python",
   "pygments_lexer": "ipython3",
   "version": "3.6.0"
  }
 },
 "nbformat": 4,
 "nbformat_minor": 2
}
